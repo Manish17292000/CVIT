{
  "nbformat": 4,
  "nbformat_minor": 0,
  "metadata": {
    "colab": {
      "name": "Untitled1.ipynb",
      "provenance": [],
      "collapsed_sections": []
    },
    "kernelspec": {
      "name": "python3",
      "display_name": "Python 3"
    }
  },
  "cells": [
    {
      "cell_type": "code",
      "metadata": {
        "id": "p-HtEAYqHWUO",
        "colab_type": "code",
        "colab": {}
      },
      "source": [
        "l=[]\n",
        "for i in range(10):\n",
        "  l.append(i)"
      ],
      "execution_count": 0,
      "outputs": []
    },
    {
      "cell_type": "code",
      "metadata": {
        "id": "5Flo34SnH9lM",
        "colab_type": "code",
        "colab": {
          "base_uri": "https://localhost:8080/",
          "height": 34
        },
        "outputId": "a59edac3-ca1f-4025-da0a-2f1fdb70b7ca"
      },
      "source": [
        "\n",
        "print(l[::-1])\n"
      ],
      "execution_count": 10,
      "outputs": [
        {
          "output_type": "stream",
          "text": [
            "[9, 8, 7, 6, 5, 4, 3, 2, 1, 0]\n"
          ],
          "name": "stdout"
        }
      ]
    },
    {
      "cell_type": "code",
      "metadata": {
        "id": "Bg67O4wFIQsH",
        "colab_type": "code",
        "colab": {
          "base_uri": "https://localhost:8080/",
          "height": 34
        },
        "outputId": "71c4fd36-b6e2-4560-8c7c-9037efef994e"
      },
      "source": [
        "print(l[-5::])"
      ],
      "execution_count": 11,
      "outputs": [
        {
          "output_type": "stream",
          "text": [
            "[5, 6, 7, 8, 9]\n"
          ],
          "name": "stdout"
        }
      ]
    },
    {
      "cell_type": "code",
      "metadata": {
        "id": "i_R4kOuPJX4a",
        "colab_type": "code",
        "colab": {}
      },
      "source": [
        "del l[3]"
      ],
      "execution_count": 0,
      "outputs": []
    },
    {
      "cell_type": "code",
      "metadata": {
        "id": "5IT3kc8vJZ4A",
        "colab_type": "code",
        "colab": {
          "base_uri": "https://localhost:8080/",
          "height": 34
        },
        "outputId": "6059c35a-bfe3-44cf-9dd9-981dc7b511b3"
      },
      "source": [
        "l\n"
      ],
      "execution_count": 14,
      "outputs": [
        {
          "output_type": "execute_result",
          "data": {
            "text/plain": [
              "[0, 1, 2, 4, 5, 6, 7, 8, 9]"
            ]
          },
          "metadata": {
            "tags": []
          },
          "execution_count": 14
        }
      ]
    },
    {
      "cell_type": "code",
      "metadata": {
        "id": "AFcdsgbMJgYf",
        "colab_type": "code",
        "colab": {}
      },
      "source": [
        "x = dict([(pow(10,r),r) for r in range(10)])\n"
      ],
      "execution_count": 0,
      "outputs": []
    },
    {
      "cell_type": "code",
      "metadata": {
        "id": "qen3t-FXJvmx",
        "colab_type": "code",
        "colab": {
          "base_uri": "https://localhost:8080/",
          "height": 34
        },
        "outputId": "2f99ecdc-40da-4007-8597-a1ec9972faa2"
      },
      "source": [
        "x.keys()"
      ],
      "execution_count": 16,
      "outputs": [
        {
          "output_type": "execute_result",
          "data": {
            "text/plain": [
              "dict_keys([1, 10, 100, 1000, 10000, 100000, 1000000, 10000000, 100000000, 1000000000])"
            ]
          },
          "metadata": {
            "tags": []
          },
          "execution_count": 16
        }
      ]
    },
    {
      "cell_type": "code",
      "metadata": {
        "id": "nY3tKWIDJyne",
        "colab_type": "code",
        "colab": {}
      },
      "source": [
        "del x[100]"
      ],
      "execution_count": 0,
      "outputs": []
    },
    {
      "cell_type": "code",
      "metadata": {
        "id": "95xklj5NJ3PG",
        "colab_type": "code",
        "colab": {
          "base_uri": "https://localhost:8080/",
          "height": 34
        },
        "outputId": "0fc1c787-9e6e-42b5-82a3-7da3f255f3a0"
      },
      "source": [
        "x.keys()"
      ],
      "execution_count": 18,
      "outputs": [
        {
          "output_type": "execute_result",
          "data": {
            "text/plain": [
              "dict_keys([1, 10, 1000, 10000, 100000, 1000000, 10000000, 100000000, 1000000000])"
            ]
          },
          "metadata": {
            "tags": []
          },
          "execution_count": 18
        }
      ]
    },
    {
      "cell_type": "code",
      "metadata": {
        "id": "iJocdB3fJ_AP",
        "colab_type": "code",
        "colab": {}
      },
      "source": [
        "l = [(k, v) for k, v in x.items()] "
      ],
      "execution_count": 0,
      "outputs": []
    },
    {
      "cell_type": "code",
      "metadata": {
        "id": "tdUN6WgIKT77",
        "colab_type": "code",
        "colab": {
          "base_uri": "https://localhost:8080/",
          "height": 162
        },
        "outputId": "f2f9bc64-b255-4049-8ecb-1aa07034e56a"
      },
      "source": [
        "l"
      ],
      "execution_count": 2,
      "outputs": [
        {
          "output_type": "error",
          "ename": "NameError",
          "evalue": "ignored",
          "traceback": [
            "\u001b[0;31m---------------------------------------------------------------------------\u001b[0m",
            "\u001b[0;31mNameError\u001b[0m                                 Traceback (most recent call last)",
            "\u001b[0;32m<ipython-input-2-cde25b5e10ad>\u001b[0m in \u001b[0;36m<module>\u001b[0;34m()\u001b[0m\n\u001b[0;32m----> 1\u001b[0;31m \u001b[0ml\u001b[0m\u001b[0;34m\u001b[0m\u001b[0;34m\u001b[0m\u001b[0m\n\u001b[0m",
            "\u001b[0;31mNameError\u001b[0m: name 'l' is not defined"
          ]
        }
      ]
    },
    {
      "cell_type": "code",
      "metadata": {
        "id": "_Izc5KyCktSR",
        "colab_type": "code",
        "colab": {}
      },
      "source": [
        "import numpy as np\n"
      ],
      "execution_count": 0,
      "outputs": []
    },
    {
      "cell_type": "code",
      "metadata": {
        "id": "uZKQOjhQk0Q6",
        "colab_type": "code",
        "colab": {
          "base_uri": "https://localhost:8080/",
          "height": 84
        },
        "outputId": "7cdef628-8964-467b-a584-63190baea38a"
      },
      "source": [
        "A"
      ],
      "execution_count": 28,
      "outputs": [
        {
          "output_type": "execute_result",
          "data": {
            "text/plain": [
              "array([[-1.05045113, -0.63100086, -1.32294988, -1.35535375],\n",
              "       [-1.81573563, -1.04640147,  2.09155148, -0.06860395],\n",
              "       [ 0.4365141 , -1.75266744, -0.82439845, -0.72627875],\n",
              "       [-0.44447474, -0.35769053,  0.63789792, -0.37141073]])"
            ]
          },
          "metadata": {
            "tags": []
          },
          "execution_count": 28
        }
      ]
    },
    {
      "cell_type": "code",
      "metadata": {
        "id": "c0wYlniNk2Lw",
        "colab_type": "code",
        "colab": {}
      },
      "source": [
        "U,s,V = np.linalg.svd(A) "
      ],
      "execution_count": 0,
      "outputs": []
    },
    {
      "cell_type": "code",
      "metadata": {
        "id": "Me_7AO6lk3xw",
        "colab_type": "code",
        "colab": {}
      },
      "source": [
        "inv = np.transpose(V) @ np.diag(1/s) @ np.transpose(U)"
      ],
      "execution_count": 0,
      "outputs": []
    },
    {
      "cell_type": "code",
      "metadata": {
        "id": "6WcOrPark-1s",
        "colab_type": "code",
        "colab": {
          "base_uri": "https://localhost:8080/",
          "height": 84
        },
        "outputId": "1f94cc1d-c718-4d58-9652-ebb9a2ffcedb"
      },
      "source": [
        "inv"
      ],
      "execution_count": 32,
      "outputs": [
        {
          "output_type": "execute_result",
          "data": {
            "text/plain": [
              "array([[-0.42482063, -0.54185705,  0.23238255,  1.1959301 ],\n",
              "       [ 0.10488632, -0.37032623, -0.53762294,  0.73695206],\n",
              "       [-0.32104835, -0.15322577, -0.06291767,  1.32290674],\n",
              "       [-0.14402082,  0.74193215,  0.13160472, -2.56126699]])"
            ]
          },
          "metadata": {
            "tags": []
          },
          "execution_count": 32
        }
      ]
    },
    {
      "cell_type": "code",
      "metadata": {
        "id": "-JOr1uVNk_zQ",
        "colab_type": "code",
        "colab": {
          "base_uri": "https://localhost:8080/",
          "height": 84
        },
        "outputId": "23823f9d-2ad6-4ac0-d285-58dadf87d092"
      },
      "source": [
        "np.linalg.inv(A)"
      ],
      "execution_count": 34,
      "outputs": [
        {
          "output_type": "execute_result",
          "data": {
            "text/plain": [
              "array([[-0.42482063, -0.54185705,  0.23238255,  1.1959301 ],\n",
              "       [ 0.10488632, -0.37032623, -0.53762294,  0.73695206],\n",
              "       [-0.32104835, -0.15322577, -0.06291767,  1.32290674],\n",
              "       [-0.14402082,  0.74193215,  0.13160472, -2.56126699]])"
            ]
          },
          "metadata": {
            "tags": []
          },
          "execution_count": 34
        }
      ]
    },
    {
      "cell_type": "code",
      "metadata": {
        "id": "dIpkE3Ihm-DQ",
        "colab_type": "code",
        "colab": {}
      },
      "source": [
        ""
      ],
      "execution_count": 0,
      "outputs": []
    },
    {
      "cell_type": "code",
      "metadata": {
        "id": "7rNyTgywoZLf",
        "colab_type": "code",
        "colab": {
          "base_uri": "https://localhost:8080/",
          "height": 312
        },
        "outputId": "b3573487-8271-48f1-f1d2-3086afc48ad9"
      },
      "source": [
        "import matplotlib.pyplot as plot\n",
        "time = np.arange(0, 10, 0.1)\n",
        "amplitude = np.sin(time) \n",
        "plot.plot(time, amplitude) \n",
        "plot.scatter(time, amplitude)\n",
        "plot.title('Sine wave') \n",
        "plot.xlabel('Time') \n",
        "plot.ylabel('Amplitude = sin(time)') \n",
        "plot.axhline(y=0, color='k')"
      ],
      "execution_count": 38,
      "outputs": [
        {
          "output_type": "execute_result",
          "data": {
            "text/plain": [
              "<matplotlib.lines.Line2D at 0x7fc0a462c828>"
            ]
          },
          "metadata": {
            "tags": []
          },
          "execution_count": 38
        },
        {
          "output_type": "display_data",
          "data": {
            "image/png": "[encoded data removed]",
            "text/plain": [
              "<Figure size 432x288 with 1 Axes>"
            ]
          },
          "metadata": {
            "tags": [],
            "needs_background": "light"
          }
        }
      ]
    },
    {
      "cell_type": "code",
      "metadata": {
        "id": "B-vTGL-9olqu",
        "colab_type": "code",
        "colab": {}
      },
      "source": [
        ""
      ],
      "execution_count": 0,
      "outputs": []
    }
  ]
}