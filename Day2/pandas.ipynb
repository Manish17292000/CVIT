{
  "nbformat": 4,
  "nbformat_minor": 0,
  "metadata": {
    "colab": {
      "name": "pandas.ipynb",
      "provenance": [],
      "collapsed_sections": []
    },
    "kernelspec": {
      "name": "python3",
      "display_name": "Python 3"
    }
  },
  "cells": [
    {
      "cell_type": "code",
      "metadata": {
        "id": "iKZ_kjMgNtfE",
        "colab_type": "code",
        "colab": {}
      },
      "source": [
        "import pandas as pd\n",
        "import numpy as np\n",
        "import plotly.graph_objects as go "
      ],
      "execution_count": 0,
      "outputs": []
    },
    {
      "cell_type": "code",
      "metadata": {
        "id": "3iVNyD7oNwNr",
        "colab_type": "code",
        "colab": {}
      },
      "source": [
        "base_url=\"https://gist.githubusercontent.com/alti-tude/710cb9d4dfc7ebcd0afb9cf93d8f6a8d/raw/574730ba009e69b81d6c79f2fef2c3dd5145db0a/\""
      ],
      "execution_count": 0,
      "outputs": []
    },
    {
      "cell_type": "code",
      "metadata": {
        "id": "aeV5uvn4OD9C",
        "colab_type": "code",
        "outputId": "0563bc3d-1ee3-46ae-95e8-b6cc54852b5f",
        "colab": {
          "base_uri": "https://localhost:8080/",
          "height": 173
        }
      },
      "source": [
        "data= {\n",
        "    'apples': [3, 2, 0, 1], \n",
        "    'oranges': [0, 3, 7, 2]\n",
        "}\n",
        "purchases=pd.DataFrame(data)\n",
        "purchases"
      ],
      "execution_count": 4,
      "outputs": [
        {
          "output_type": "execute_result",
          "data": {
            "text/html": [
              "<div>\n",
              "<style scoped>\n",
              "    .dataframe tbody tr th:only-of-type {\n",
              "        vertical-align: middle;\n",
              "    }\n",
              "\n",
              "    .dataframe tbody tr th {\n",
              "        vertical-align: top;\n",
              "    }\n",
              "\n",
              "    .dataframe thead th {\n",
              "        text-align: right;\n",
              "    }\n",
              "</style>\n",
              "<table border=\"1\" class=\"dataframe\">\n",
              "  <thead>\n",
              "    <tr style=\"text-align: right;\">\n",
              "      <th></th>\n",
              "      <th>apples</th>\n",
              "      <th>oranges</th>\n",
              "    </tr>\n",
              "  </thead>\n",
              "  <tbody>\n",
              "    <tr>\n",
              "      <th>0</th>\n",
              "      <td>3</td>\n",
              "      <td>0</td>\n",
              "    </tr>\n",
              "    <tr>\n",
              "      <th>1</th>\n",
              "      <td>2</td>\n",
              "      <td>3</td>\n",
              "    </tr>\n",
              "    <tr>\n",
              "      <th>2</th>\n",
              "      <td>0</td>\n",
              "      <td>7</td>\n",
              "    </tr>\n",
              "    <tr>\n",
              "      <th>3</th>\n",
              "      <td>1</td>\n",
              "      <td>2</td>\n",
              "    </tr>\n",
              "  </tbody>\n",
              "</table>\n",
              "</div>"
            ],
            "text/plain": [
              "   apples  oranges\n",
              "0       3        0\n",
              "1       2        3\n",
              "2       0        7\n",
              "3       1        2"
            ]
          },
          "metadata": {
            "tags": []
          },
          "execution_count": 4
        }
      ]
    },
    {
      "cell_type": "code",
      "metadata": {
        "id": "QiI_nuk9Oihg",
        "colab_type": "code",
        "outputId": "10a79f5f-8ea7-47a2-bd5f-db64927b6ccc",
        "colab": {
          "base_uri": "https://localhost:8080/",
          "height": 173
        }
      },
      "source": [
        "purchases=pd.DataFrame(data, index=['a', 'b', 'c', 'd'])\n",
        "purchases"
      ],
      "execution_count": 5,
      "outputs": [
        {
          "output_type": "execute_result",
          "data": {
            "text/html": [
              "<div>\n",
              "<style scoped>\n",
              "    .dataframe tbody tr th:only-of-type {\n",
              "        vertical-align: middle;\n",
              "    }\n",
              "\n",
              "    .dataframe tbody tr th {\n",
              "        vertical-align: top;\n",
              "    }\n",
              "\n",
              "    .dataframe thead th {\n",
              "        text-align: right;\n",
              "    }\n",
              "</style>\n",
              "<table border=\"1\" class=\"dataframe\">\n",
              "  <thead>\n",
              "    <tr style=\"text-align: right;\">\n",
              "      <th></th>\n",
              "      <th>apples</th>\n",
              "      <th>oranges</th>\n",
              "    </tr>\n",
              "  </thead>\n",
              "  <tbody>\n",
              "    <tr>\n",
              "      <th>a</th>\n",
              "      <td>3</td>\n",
              "      <td>0</td>\n",
              "    </tr>\n",
              "    <tr>\n",
              "      <th>b</th>\n",
              "      <td>2</td>\n",
              "      <td>3</td>\n",
              "    </tr>\n",
              "    <tr>\n",
              "      <th>c</th>\n",
              "      <td>0</td>\n",
              "      <td>7</td>\n",
              "    </tr>\n",
              "    <tr>\n",
              "      <th>d</th>\n",
              "      <td>1</td>\n",
              "      <td>2</td>\n",
              "    </tr>\n",
              "  </tbody>\n",
              "</table>\n",
              "</div>"
            ],
            "text/plain": [
              "   apples  oranges\n",
              "a       3        0\n",
              "b       2        3\n",
              "c       0        7\n",
              "d       1        2"
            ]
          },
          "metadata": {
            "tags": []
          },
          "execution_count": 5
        }
      ]
    },
    {
      "cell_type": "code",
      "metadata": {
        "id": "bfTm8pV9O06r",
        "colab_type": "code",
        "outputId": "0044b5d9-54dd-417b-afb1-7fc089e38611",
        "colab": {
          "base_uri": "https://localhost:8080/",
          "height": 173
        }
      },
      "source": [
        "df=pd.read_csv(base_url+'purchases.csv', index_col=0)\n",
        "df"
      ],
      "execution_count": 6,
      "outputs": [
        {
          "output_type": "execute_result",
          "data": {
            "text/html": [
              "<div>\n",
              "<style scoped>\n",
              "    .dataframe tbody tr th:only-of-type {\n",
              "        vertical-align: middle;\n",
              "    }\n",
              "\n",
              "    .dataframe tbody tr th {\n",
              "        vertical-align: top;\n",
              "    }\n",
              "\n",
              "    .dataframe thead th {\n",
              "        text-align: right;\n",
              "    }\n",
              "</style>\n",
              "<table border=\"1\" class=\"dataframe\">\n",
              "  <thead>\n",
              "    <tr style=\"text-align: right;\">\n",
              "      <th></th>\n",
              "      <th>apples</th>\n",
              "      <th>oranges</th>\n",
              "    </tr>\n",
              "  </thead>\n",
              "  <tbody>\n",
              "    <tr>\n",
              "      <th>June</th>\n",
              "      <td>3</td>\n",
              "      <td>0</td>\n",
              "    </tr>\n",
              "    <tr>\n",
              "      <th>Robert</th>\n",
              "      <td>2</td>\n",
              "      <td>3</td>\n",
              "    </tr>\n",
              "    <tr>\n",
              "      <th>Lily</th>\n",
              "      <td>0</td>\n",
              "      <td>7</td>\n",
              "    </tr>\n",
              "    <tr>\n",
              "      <th>David</th>\n",
              "      <td>1</td>\n",
              "      <td>2</td>\n",
              "    </tr>\n",
              "  </tbody>\n",
              "</table>\n",
              "</div>"
            ],
            "text/plain": [
              "        apples  oranges\n",
              "June         3        0\n",
              "Robert       2        3\n",
              "Lily         0        7\n",
              "David        1        2"
            ]
          },
          "metadata": {
            "tags": []
          },
          "execution_count": 6
        }
      ]
    },
    {
      "cell_type": "code",
      "metadata": {
        "id": "ySZi7QWPPF4K",
        "colab_type": "code",
        "outputId": "2bfb77a8-c507-49d7-8654-fd65aef691f5",
        "colab": {
          "base_uri": "https://localhost:8080/",
          "height": 173
        }
      },
      "source": [
        "df=pd.read_json(base_url+'purchases.json')\n",
        "df"
      ],
      "execution_count": 7,
      "outputs": [
        {
          "output_type": "execute_result",
          "data": {
            "text/html": [
              "<div>\n",
              "<style scoped>\n",
              "    .dataframe tbody tr th:only-of-type {\n",
              "        vertical-align: middle;\n",
              "    }\n",
              "\n",
              "    .dataframe tbody tr th {\n",
              "        vertical-align: top;\n",
              "    }\n",
              "\n",
              "    .dataframe thead th {\n",
              "        text-align: right;\n",
              "    }\n",
              "</style>\n",
              "<table border=\"1\" class=\"dataframe\">\n",
              "  <thead>\n",
              "    <tr style=\"text-align: right;\">\n",
              "      <th></th>\n",
              "      <th>apples</th>\n",
              "      <th>oranges</th>\n",
              "    </tr>\n",
              "  </thead>\n",
              "  <tbody>\n",
              "    <tr>\n",
              "      <th>June</th>\n",
              "      <td>3</td>\n",
              "      <td>0</td>\n",
              "    </tr>\n",
              "    <tr>\n",
              "      <th>Robert</th>\n",
              "      <td>2</td>\n",
              "      <td>3</td>\n",
              "    </tr>\n",
              "    <tr>\n",
              "      <th>Lily</th>\n",
              "      <td>0</td>\n",
              "      <td>7</td>\n",
              "    </tr>\n",
              "    <tr>\n",
              "      <th>David</th>\n",
              "      <td>1</td>\n",
              "      <td>2</td>\n",
              "    </tr>\n",
              "  </tbody>\n",
              "</table>\n",
              "</div>"
            ],
            "text/plain": [
              "        apples  oranges\n",
              "June         3        0\n",
              "Robert       2        3\n",
              "Lily         0        7\n",
              "David        1        2"
            ]
          },
          "metadata": {
            "tags": []
          },
          "execution_count": 7
        }
      ]
    },
    {
      "cell_type": "code",
      "metadata": {
        "id": "AbyXm8-hPkxy",
        "colab_type": "code",
        "outputId": "5f2c2508-6339-49a2-fdb0-1f05f174fa14",
        "colab": {
          "base_uri": "https://localhost:8080/",
          "height": 337
        }
      },
      "source": [
        "df=pd.read_csv(base_url+'IMDB-Movie-Data.csv', index_col='Title')\n",
        "df.head()"
      ],
      "execution_count": 8,
      "outputs": [
        {
          "output_type": "execute_result",
          "data": {
            "text/html": [
              "<div>\n",
              "<style scoped>\n",
              "    .dataframe tbody tr th:only-of-type {\n",
              "        vertical-align: middle;\n",
              "    }\n",
              "\n",
              "    .dataframe tbody tr th {\n",
              "        vertical-align: top;\n",
              "    }\n",
              "\n",
              "    .dataframe thead th {\n",
              "        text-align: right;\n",
              "    }\n",
              "</style>\n",
              "<table border=\"1\" class=\"dataframe\">\n",
              "  <thead>\n",
              "    <tr style=\"text-align: right;\">\n",
              "      <th></th>\n",
              "      <th>Rank</th>\n",
              "      <th>Genre</th>\n",
              "      <th>Description</th>\n",
              "      <th>Director</th>\n",
              "      <th>Actors</th>\n",
              "      <th>Year</th>\n",
              "      <th>Runtime (Minutes)</th>\n",
              "      <th>Rating</th>\n",
              "      <th>Votes</th>\n",
              "      <th>Revenue (Millions)</th>\n",
              "      <th>Metascore</th>\n",
              "    </tr>\n",
              "    <tr>\n",
              "      <th>Title</th>\n",
              "      <th></th>\n",
              "      <th></th>\n",
              "      <th></th>\n",
              "      <th></th>\n",
              "      <th></th>\n",
              "      <th></th>\n",
              "      <th></th>\n",
              "      <th></th>\n",
              "      <th></th>\n",
              "      <th></th>\n",
              "      <th></th>\n",
              "    </tr>\n",
              "  </thead>\n",
              "  <tbody>\n",
              "    <tr>\n",
              "      <th>Guardians of the Galaxy</th>\n",
              "      <td>1</td>\n",
              "      <td>Action,Adventure,Sci-Fi</td>\n",
              "      <td>A group of intergalactic criminals are forced ...</td>\n",
              "      <td>James Gunn</td>\n",
              "      <td>Chris Pratt, Vin Diesel, Bradley Cooper, Zoe S...</td>\n",
              "      <td>2014</td>\n",
              "      <td>121</td>\n",
              "      <td>8.1</td>\n",
              "      <td>757074</td>\n",
              "      <td>333.13</td>\n",
              "      <td>76.0</td>\n",
              "    </tr>\n",
              "    <tr>\n",
              "      <th>Prometheus</th>\n",
              "      <td>2</td>\n",
              "      <td>Adventure,Mystery,Sci-Fi</td>\n",
              "      <td>Following clues to the origin of mankind, a te...</td>\n",
              "      <td>Ridley Scott</td>\n",
              "      <td>Noomi Rapace, Logan Marshall-Green, Michael Fa...</td>\n",
              "      <td>2012</td>\n",
              "      <td>124</td>\n",
              "      <td>7.0</td>\n",
              "      <td>485820</td>\n",
              "      <td>126.46</td>\n",
              "      <td>65.0</td>\n",
              "    </tr>\n",
              "    <tr>\n",
              "      <th>Split</th>\n",
              "      <td>3</td>\n",
              "      <td>Horror,Thriller</td>\n",
              "      <td>Three girls are kidnapped by a man with a diag...</td>\n",
              "      <td>M. Night Shyamalan</td>\n",
              "      <td>James McAvoy, Anya Taylor-Joy, Haley Lu Richar...</td>\n",
              "      <td>2016</td>\n",
              "      <td>117</td>\n",
              "      <td>7.3</td>\n",
              "      <td>157606</td>\n",
              "      <td>138.12</td>\n",
              "      <td>62.0</td>\n",
              "    </tr>\n",
              "    <tr>\n",
              "      <th>Sing</th>\n",
              "      <td>4</td>\n",
              "      <td>Animation,Comedy,Family</td>\n",
              "      <td>In a city of humanoid animals, a hustling thea...</td>\n",
              "      <td>Christophe Lourdelet</td>\n",
              "      <td>Matthew McConaughey,Reese Witherspoon, Seth Ma...</td>\n",
              "      <td>2016</td>\n",
              "      <td>108</td>\n",
              "      <td>7.2</td>\n",
              "      <td>60545</td>\n",
              "      <td>270.32</td>\n",
              "      <td>59.0</td>\n",
              "    </tr>\n",
              "    <tr>\n",
              "      <th>Suicide Squad</th>\n",
              "      <td>5</td>\n",
              "      <td>Action,Adventure,Fantasy</td>\n",
              "      <td>A secret government agency recruits some of th...</td>\n",
              "      <td>David Ayer</td>\n",
              "      <td>Will Smith, Jared Leto, Margot Robbie, Viola D...</td>\n",
              "      <td>2016</td>\n",
              "      <td>123</td>\n",
              "      <td>6.2</td>\n",
              "      <td>393727</td>\n",
              "      <td>325.02</td>\n",
              "      <td>40.0</td>\n",
              "    </tr>\n",
              "  </tbody>\n",
              "</table>\n",
              "</div>"
            ],
            "text/plain": [
              "                         Rank  ... Metascore\n",
              "Title                          ...          \n",
              "Guardians of the Galaxy     1  ...      76.0\n",
              "Prometheus                  2  ...      65.0\n",
              "Split                       3  ...      62.0\n",
              "Sing                        4  ...      59.0\n",
              "Suicide Squad               5  ...      40.0\n",
              "\n",
              "[5 rows x 11 columns]"
            ]
          },
          "metadata": {
            "tags": []
          },
          "execution_count": 8
        }
      ]
    },
    {
      "cell_type": "code",
      "metadata": {
        "id": "XYoz92tbQFmg",
        "colab_type": "code",
        "outputId": "1ba2267d-3c67-4ebd-d140-d8df3551826c",
        "colab": {
          "base_uri": "https://localhost:8080/",
          "height": 323
        }
      },
      "source": [
        "df.info()"
      ],
      "execution_count": 9,
      "outputs": [
        {
          "output_type": "stream",
          "text": [
            "<class 'pandas.core.frame.DataFrame'>\n",
            "Index: 1000 entries, Guardians of the Galaxy to Nine Lives\n",
            "Data columns (total 11 columns):\n",
            " #   Column              Non-Null Count  Dtype  \n",
            "---  ------              --------------  -----  \n",
            " 0   Rank                1000 non-null   int64  \n",
            " 1   Genre               1000 non-null   object \n",
            " 2   Description         1000 non-null   object \n",
            " 3   Director            1000 non-null   object \n",
            " 4   Actors              1000 non-null   object \n",
            " 5   Year                1000 non-null   int64  \n",
            " 6   Runtime (Minutes)   1000 non-null   int64  \n",
            " 7   Rating              1000 non-null   float64\n",
            " 8   Votes               1000 non-null   int64  \n",
            " 9   Revenue (Millions)  872 non-null    float64\n",
            " 10  Metascore           936 non-null    float64\n",
            "dtypes: float64(3), int64(4), object(4)\n",
            "memory usage: 93.8+ KB\n"
          ],
          "name": "stdout"
        }
      ]
    },
    {
      "cell_type": "markdown",
      "metadata": {
        "id": "Q5rzl63qX5mx",
        "colab_type": "text"
      },
      "source": [
        "##TASK"
      ]
    },
    {
      "cell_type": "code",
      "metadata": {
        "id": "OesxDY8-QaUY",
        "colab_type": "code",
        "outputId": "378b59de-6c0b-4b10-cad4-2ad749c37ef0",
        "colab": {
          "base_uri": "https://localhost:8080/",
          "height": 204
        }
      },
      "source": [
        "df=pd.read_csv(base_url+'MusicTop50.csv', index_col=0)\n",
        "df.head(5)\n"
      ],
      "execution_count": 10,
      "outputs": [
        {
          "output_type": "execute_result",
          "data": {
            "text/html": [
              "<div>\n",
              "<style scoped>\n",
              "    .dataframe tbody tr th:only-of-type {\n",
              "        vertical-align: middle;\n",
              "    }\n",
              "\n",
              "    .dataframe tbody tr th {\n",
              "        vertical-align: top;\n",
              "    }\n",
              "\n",
              "    .dataframe thead th {\n",
              "        text-align: right;\n",
              "    }\n",
              "</style>\n",
              "<table border=\"1\" class=\"dataframe\">\n",
              "  <thead>\n",
              "    <tr style=\"text-align: right;\">\n",
              "      <th></th>\n",
              "      <th>Track.Name</th>\n",
              "      <th>Artist.Name</th>\n",
              "      <th>Genre</th>\n",
              "      <th>Beats.Per.Minute</th>\n",
              "      <th>Energy</th>\n",
              "      <th>Danceability..db..</th>\n",
              "      <th>Loudness..</th>\n",
              "      <th>Liveness.</th>\n",
              "      <th>Valence ()</th>\n",
              "      <th>Length</th>\n",
              "      <th>Acousticness</th>\n",
              "      <th>Speechiness</th>\n",
              "      <th>Popularity</th>\n",
              "    </tr>\n",
              "  </thead>\n",
              "  <tbody>\n",
              "    <tr>\n",
              "      <th>1</th>\n",
              "      <td>Se�orita</td>\n",
              "      <td>Shawn Mendes</td>\n",
              "      <td>canadian pop</td>\n",
              "      <td>117.0</td>\n",
              "      <td>55.0</td>\n",
              "      <td>76</td>\n",
              "      <td>-6</td>\n",
              "      <td>8.0</td>\n",
              "      <td>75.0</td>\n",
              "      <td>191.0</td>\n",
              "      <td>4</td>\n",
              "      <td>3</td>\n",
              "      <td>79.0</td>\n",
              "    </tr>\n",
              "    <tr>\n",
              "      <th>2</th>\n",
              "      <td>China</td>\n",
              "      <td>Anuel AA</td>\n",
              "      <td>reggaeton flow</td>\n",
              "      <td>105.0</td>\n",
              "      <td>81.0</td>\n",
              "      <td>79</td>\n",
              "      <td>-4</td>\n",
              "      <td>8.0</td>\n",
              "      <td>61.0</td>\n",
              "      <td>302.0</td>\n",
              "      <td>8</td>\n",
              "      <td>9</td>\n",
              "      <td>92.0</td>\n",
              "    </tr>\n",
              "    <tr>\n",
              "      <th>3</th>\n",
              "      <td>boyfriend (with Social House)</td>\n",
              "      <td>Ariana Grande</td>\n",
              "      <td>dance pop</td>\n",
              "      <td>190.0</td>\n",
              "      <td>80.0</td>\n",
              "      <td>40</td>\n",
              "      <td>-4</td>\n",
              "      <td>16.0</td>\n",
              "      <td>70.0</td>\n",
              "      <td>186.0</td>\n",
              "      <td>12</td>\n",
              "      <td>46</td>\n",
              "      <td>85.0</td>\n",
              "    </tr>\n",
              "    <tr>\n",
              "      <th>4</th>\n",
              "      <td>Beautiful People (feat. Khalid)</td>\n",
              "      <td>Ed Sheeran</td>\n",
              "      <td>pop</td>\n",
              "      <td>93.0</td>\n",
              "      <td>65.0</td>\n",
              "      <td>64</td>\n",
              "      <td>-8</td>\n",
              "      <td>8.0</td>\n",
              "      <td>55.0</td>\n",
              "      <td>198.0</td>\n",
              "      <td>12</td>\n",
              "      <td>19</td>\n",
              "      <td>86.0</td>\n",
              "    </tr>\n",
              "    <tr>\n",
              "      <th>5</th>\n",
              "      <td>Goodbyes (Feat. Young Thug)</td>\n",
              "      <td>Post Malone</td>\n",
              "      <td>dfw rap</td>\n",
              "      <td>NaN</td>\n",
              "      <td>65.0</td>\n",
              "      <td>58</td>\n",
              "      <td>-4</td>\n",
              "      <td>11.0</td>\n",
              "      <td>18.0</td>\n",
              "      <td>175.0</td>\n",
              "      <td>45</td>\n",
              "      <td>7</td>\n",
              "      <td>94.0</td>\n",
              "    </tr>\n",
              "  </tbody>\n",
              "</table>\n",
              "</div>"
            ],
            "text/plain": [
              "                        Track.Name    Artist.Name  ... Speechiness  Popularity\n",
              "1                         Se�orita   Shawn Mendes  ...           3        79.0\n",
              "2                            China       Anuel AA  ...           9        92.0\n",
              "3    boyfriend (with Social House)  Ariana Grande  ...          46        85.0\n",
              "4  Beautiful People (feat. Khalid)     Ed Sheeran  ...          19        86.0\n",
              "5      Goodbyes (Feat. Young Thug)    Post Malone  ...           7        94.0\n",
              "\n",
              "[5 rows x 13 columns]"
            ]
          },
          "metadata": {
            "tags": []
          },
          "execution_count": 10
        }
      ]
    },
    {
      "cell_type": "code",
      "metadata": {
        "id": "VYXWb8W0XcEY",
        "colab_type": "code",
        "outputId": "672eab1d-8599-4401-d758-1642ebbf5b8d",
        "colab": {
          "base_uri": "https://localhost:8080/",
          "height": 204
        }
      },
      "source": [
        "df.tail(5)\n"
      ],
      "execution_count": 11,
      "outputs": [
        {
          "output_type": "execute_result",
          "data": {
            "text/html": [
              "<div>\n",
              "<style scoped>\n",
              "    .dataframe tbody tr th:only-of-type {\n",
              "        vertical-align: middle;\n",
              "    }\n",
              "\n",
              "    .dataframe tbody tr th {\n",
              "        vertical-align: top;\n",
              "    }\n",
              "\n",
              "    .dataframe thead th {\n",
              "        text-align: right;\n",
              "    }\n",
              "</style>\n",
              "<table border=\"1\" class=\"dataframe\">\n",
              "  <thead>\n",
              "    <tr style=\"text-align: right;\">\n",
              "      <th></th>\n",
              "      <th>Track.Name</th>\n",
              "      <th>Artist.Name</th>\n",
              "      <th>Genre</th>\n",
              "      <th>Beats.Per.Minute</th>\n",
              "      <th>Energy</th>\n",
              "      <th>Danceability..db..</th>\n",
              "      <th>Loudness..</th>\n",
              "      <th>Liveness.</th>\n",
              "      <th>Valence ()</th>\n",
              "      <th>Length</th>\n",
              "      <th>Acousticness</th>\n",
              "      <th>Speechiness</th>\n",
              "      <th>Popularity</th>\n",
              "    </tr>\n",
              "  </thead>\n",
              "  <tbody>\n",
              "    <tr>\n",
              "      <th>46</th>\n",
              "      <td>One Thing Right</td>\n",
              "      <td>Marshmello</td>\n",
              "      <td>brostep</td>\n",
              "      <td>88.0</td>\n",
              "      <td>62.0</td>\n",
              "      <td>66</td>\n",
              "      <td>-2</td>\n",
              "      <td>NaN</td>\n",
              "      <td>44.0</td>\n",
              "      <td>182.0</td>\n",
              "      <td>7</td>\n",
              "      <td>5</td>\n",
              "      <td>88.0</td>\n",
              "    </tr>\n",
              "    <tr>\n",
              "      <th>47</th>\n",
              "      <td>Te Robar�</td>\n",
              "      <td>Nicky Jam</td>\n",
              "      <td>latin</td>\n",
              "      <td>176.0</td>\n",
              "      <td>75.0</td>\n",
              "      <td>67</td>\n",
              "      <td>-4</td>\n",
              "      <td>8.0</td>\n",
              "      <td>80.0</td>\n",
              "      <td>202.0</td>\n",
              "      <td>24</td>\n",
              "      <td>6</td>\n",
              "      <td>88.0</td>\n",
              "    </tr>\n",
              "    <tr>\n",
              "      <th>48</th>\n",
              "      <td>Happier</td>\n",
              "      <td>Marshmello</td>\n",
              "      <td>brostep</td>\n",
              "      <td>100.0</td>\n",
              "      <td>79.0</td>\n",
              "      <td>69</td>\n",
              "      <td>-3</td>\n",
              "      <td>17.0</td>\n",
              "      <td>67.0</td>\n",
              "      <td>214.0</td>\n",
              "      <td>19</td>\n",
              "      <td>5</td>\n",
              "      <td>88.0</td>\n",
              "    </tr>\n",
              "    <tr>\n",
              "      <th>49</th>\n",
              "      <td>Call You Mine</td>\n",
              "      <td>The Chainsmokers</td>\n",
              "      <td>edm</td>\n",
              "      <td>104.0</td>\n",
              "      <td>70.0</td>\n",
              "      <td>59</td>\n",
              "      <td>-6</td>\n",
              "      <td>41.0</td>\n",
              "      <td>50.0</td>\n",
              "      <td>218.0</td>\n",
              "      <td>23</td>\n",
              "      <td>3</td>\n",
              "      <td>88.0</td>\n",
              "    </tr>\n",
              "    <tr>\n",
              "      <th>50</th>\n",
              "      <td>Cross Me (feat. Chance the Rapper &amp; PnB Rock)</td>\n",
              "      <td>Ed Sheeran</td>\n",
              "      <td>pop</td>\n",
              "      <td>95.0</td>\n",
              "      <td>79.0</td>\n",
              "      <td>75</td>\n",
              "      <td>-6</td>\n",
              "      <td>7.0</td>\n",
              "      <td>61.0</td>\n",
              "      <td>206.0</td>\n",
              "      <td>21</td>\n",
              "      <td>12</td>\n",
              "      <td>82.0</td>\n",
              "    </tr>\n",
              "  </tbody>\n",
              "</table>\n",
              "</div>"
            ],
            "text/plain": [
              "                                       Track.Name  ... Popularity\n",
              "46                                One Thing Right  ...       88.0\n",
              "47                                      Te Robar�  ...       88.0\n",
              "48                                        Happier  ...       88.0\n",
              "49                                  Call You Mine  ...       88.0\n",
              "50  Cross Me (feat. Chance the Rapper & PnB Rock)  ...       82.0\n",
              "\n",
              "[5 rows x 13 columns]"
            ]
          },
          "metadata": {
            "tags": []
          },
          "execution_count": 11
        }
      ]
    },
    {
      "cell_type": "code",
      "metadata": {
        "id": "hdXldLdBYSJv",
        "colab_type": "code",
        "outputId": "3a5bed95-ee26-4ee0-91b9-a9f2dcfa7d8b",
        "colab": {
          "base_uri": "https://localhost:8080/",
          "height": 204
        }
      },
      "source": [
        "\n",
        "df.fillna((df.mean()), inplace=True)\n",
        "df.tail()"
      ],
      "execution_count": 12,
      "outputs": [
        {
          "output_type": "execute_result",
          "data": {
            "text/html": [
              "<div>\n",
              "<style scoped>\n",
              "    .dataframe tbody tr th:only-of-type {\n",
              "        vertical-align: middle;\n",
              "    }\n",
              "\n",
              "    .dataframe tbody tr th {\n",
              "        vertical-align: top;\n",
              "    }\n",
              "\n",
              "    .dataframe thead th {\n",
              "        text-align: right;\n",
              "    }\n",
              "</style>\n",
              "<table border=\"1\" class=\"dataframe\">\n",
              "  <thead>\n",
              "    <tr style=\"text-align: right;\">\n",
              "      <th></th>\n",
              "      <th>Track.Name</th>\n",
              "      <th>Artist.Name</th>\n",
              "      <th>Genre</th>\n",
              "      <th>Beats.Per.Minute</th>\n",
              "      <th>Energy</th>\n",
              "      <th>Danceability..db..</th>\n",
              "      <th>Loudness..</th>\n",
              "      <th>Liveness.</th>\n",
              "      <th>Valence ()</th>\n",
              "      <th>Length</th>\n",
              "      <th>Acousticness</th>\n",
              "      <th>Speechiness</th>\n",
              "      <th>Popularity</th>\n",
              "    </tr>\n",
              "  </thead>\n",
              "  <tbody>\n",
              "    <tr>\n",
              "      <th>46</th>\n",
              "      <td>One Thing Right</td>\n",
              "      <td>Marshmello</td>\n",
              "      <td>brostep</td>\n",
              "      <td>88.0</td>\n",
              "      <td>62.0</td>\n",
              "      <td>66</td>\n",
              "      <td>-2</td>\n",
              "      <td>13.791667</td>\n",
              "      <td>44.0</td>\n",
              "      <td>182.0</td>\n",
              "      <td>7</td>\n",
              "      <td>5</td>\n",
              "      <td>88.0</td>\n",
              "    </tr>\n",
              "    <tr>\n",
              "      <th>47</th>\n",
              "      <td>Te Robar�</td>\n",
              "      <td>Nicky Jam</td>\n",
              "      <td>latin</td>\n",
              "      <td>176.0</td>\n",
              "      <td>75.0</td>\n",
              "      <td>67</td>\n",
              "      <td>-4</td>\n",
              "      <td>8.000000</td>\n",
              "      <td>80.0</td>\n",
              "      <td>202.0</td>\n",
              "      <td>24</td>\n",
              "      <td>6</td>\n",
              "      <td>88.0</td>\n",
              "    </tr>\n",
              "    <tr>\n",
              "      <th>48</th>\n",
              "      <td>Happier</td>\n",
              "      <td>Marshmello</td>\n",
              "      <td>brostep</td>\n",
              "      <td>100.0</td>\n",
              "      <td>79.0</td>\n",
              "      <td>69</td>\n",
              "      <td>-3</td>\n",
              "      <td>17.000000</td>\n",
              "      <td>67.0</td>\n",
              "      <td>214.0</td>\n",
              "      <td>19</td>\n",
              "      <td>5</td>\n",
              "      <td>88.0</td>\n",
              "    </tr>\n",
              "    <tr>\n",
              "      <th>49</th>\n",
              "      <td>Call You Mine</td>\n",
              "      <td>The Chainsmokers</td>\n",
              "      <td>edm</td>\n",
              "      <td>104.0</td>\n",
              "      <td>70.0</td>\n",
              "      <td>59</td>\n",
              "      <td>-6</td>\n",
              "      <td>41.000000</td>\n",
              "      <td>50.0</td>\n",
              "      <td>218.0</td>\n",
              "      <td>23</td>\n",
              "      <td>3</td>\n",
              "      <td>88.0</td>\n",
              "    </tr>\n",
              "    <tr>\n",
              "      <th>50</th>\n",
              "      <td>Cross Me (feat. Chance the Rapper &amp; PnB Rock)</td>\n",
              "      <td>Ed Sheeran</td>\n",
              "      <td>pop</td>\n",
              "      <td>95.0</td>\n",
              "      <td>79.0</td>\n",
              "      <td>75</td>\n",
              "      <td>-6</td>\n",
              "      <td>7.000000</td>\n",
              "      <td>61.0</td>\n",
              "      <td>206.0</td>\n",
              "      <td>21</td>\n",
              "      <td>12</td>\n",
              "      <td>82.0</td>\n",
              "    </tr>\n",
              "  </tbody>\n",
              "</table>\n",
              "</div>"
            ],
            "text/plain": [
              "                                       Track.Name  ... Popularity\n",
              "46                                One Thing Right  ...       88.0\n",
              "47                                      Te Robar�  ...       88.0\n",
              "48                                        Happier  ...       88.0\n",
              "49                                  Call You Mine  ...       88.0\n",
              "50  Cross Me (feat. Chance the Rapper & PnB Rock)  ...       82.0\n",
              "\n",
              "[5 rows x 13 columns]"
            ]
          },
          "metadata": {
            "tags": []
          },
          "execution_count": 12
        }
      ]
    },
    {
      "cell_type": "code",
      "metadata": {
        "id": "KJkXBYS7ZGL2",
        "colab_type": "code",
        "colab": {
          "base_uri": "https://localhost:8080/",
          "height": 80
        },
        "outputId": "ddf73b4d-f9e8-48a5-df2d-3e6692eb1673"
      },
      "source": [
        "df1=df[ df.Popularity==df.Popularity.min()] \n",
        "df1[df1[\"Loudness..\"] ==  df1[\"Loudness..\"].max()]"
      ],
      "execution_count": 47,
      "outputs": [
        {
          "output_type": "execute_result",
          "data": {
            "text/html": [
              "<div>\n",
              "<style scoped>\n",
              "    .dataframe tbody tr th:only-of-type {\n",
              "        vertical-align: middle;\n",
              "    }\n",
              "\n",
              "    .dataframe tbody tr th {\n",
              "        vertical-align: top;\n",
              "    }\n",
              "\n",
              "    .dataframe thead th {\n",
              "        text-align: right;\n",
              "    }\n",
              "</style>\n",
              "<table border=\"1\" class=\"dataframe\">\n",
              "  <thead>\n",
              "    <tr style=\"text-align: right;\">\n",
              "      <th></th>\n",
              "      <th>Track.Name</th>\n",
              "      <th>Artist.Name</th>\n",
              "      <th>Genre</th>\n",
              "      <th>Beats.Per.Minute</th>\n",
              "      <th>Energy</th>\n",
              "      <th>Danceability..db..</th>\n",
              "      <th>Loudness..</th>\n",
              "      <th>Liveness.</th>\n",
              "      <th>Valence ()</th>\n",
              "      <th>Length</th>\n",
              "      <th>Acousticness</th>\n",
              "      <th>Speechiness</th>\n",
              "      <th>Popularity</th>\n",
              "    </tr>\n",
              "  </thead>\n",
              "  <tbody>\n",
              "    <tr>\n",
              "      <th>26</th>\n",
              "      <td>If I Can't Have You</td>\n",
              "      <td>Shawn Mendes</td>\n",
              "      <td>canadian pop</td>\n",
              "      <td>119.354167</td>\n",
              "      <td>82.0</td>\n",
              "      <td>69</td>\n",
              "      <td>-4</td>\n",
              "      <td>13.791667</td>\n",
              "      <td>87.0</td>\n",
              "      <td>191.0</td>\n",
              "      <td>49</td>\n",
              "      <td>6</td>\n",
              "      <td>70.0</td>\n",
              "    </tr>\n",
              "  </tbody>\n",
              "</table>\n",
              "</div>"
            ],
            "text/plain": [
              "             Track.Name   Artist.Name  ... Speechiness  Popularity\n",
              "26  If I Can't Have You  Shawn Mendes  ...           6        70.0\n",
              "\n",
              "[1 rows x 13 columns]"
            ]
          },
          "metadata": {
            "tags": []
          },
          "execution_count": 47
        }
      ]
    },
    {
      "cell_type": "code",
      "metadata": {
        "id": "Xo6jR0kdpKjn",
        "colab_type": "code",
        "colab": {
          "base_uri": "https://localhost:8080/",
          "height": 255
        },
        "outputId": "7342ea7d-24b9-4de9-d8bd-1a77f8196b4f"
      },
      "source": [
        "df.max()"
      ],
      "execution_count": 23,
      "outputs": [
        {
          "output_type": "execute_result",
          "data": {
            "text/plain": [
              "Track.Name            fuck, i'm lonely (with Anne-Marie) - from �13 ...\n",
              "Artist.Name                                                  Young Thug\n",
              "Genre                                                        trap music\n",
              "Beats.Per.Minute                                                    190\n",
              "Energy                                                               88\n",
              "Danceability..db..                                                   90\n",
              "Loudness..                                                           -2\n",
              "Liveness.                                                            44\n",
              "Valence ()                                                           95\n",
              "Length                                                              309\n",
              "Acousticness                                                         75\n",
              "Speechiness                                                          46\n",
              "Popularity                                                           95\n",
              "dtype: object"
            ]
          },
          "metadata": {
            "tags": []
          },
          "execution_count": 23
        }
      ]
    },
    {
      "cell_type": "code",
      "metadata": {
        "id": "0J7sAADEqH_5",
        "colab_type": "code",
        "colab": {}
      },
      "source": [
        ""
      ],
      "execution_count": 0,
      "outputs": []
    }
  ]
}